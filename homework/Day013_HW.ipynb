{
 "cells": [
  {
   "cell_type": "code",
   "execution_count": 19,
   "metadata": {},
   "outputs": [
    {
     "name": "stdout",
     "output_type": "stream",
     "text": [
      "[討論] NBA停賽的可能性?!\n",
      "作者: sthho (sthho)\n",
      "[BOX ] Raptors 118:113 Kings 數據\n",
      "[公告] 第一次被退文，可在三天後刪除退文\n",
      "作者: Vedan (味丹)\n",
      "[新聞]全陣快艇吞第一敗 湖人本季洛城內戰首開\n",
      "作者: sodistrues (true)\n",
      "[情報] 雷霆本季16次前三節落後逆轉勝 聯盟最多\n",
      "作者: NSYSUheng (Pain)\n",
      "[討論] 快艇是不是被騙了買到假貨啊\n",
      "作者: MayBeSoft (小小瑜兒)\n",
      "[花邊] 球迷嗆Walton：你這白痴，你有三分冠軍\n",
      "作者: UCAthena (Let's go __)\n",
      "Re: [花邊] 歐尼爾:誰能擊敗這五個人！\n",
      "作者: IAMGRICE (重雙我)\n",
      "[公告] 板規v6.8\n",
      "[公告] 版主上任相關事項 \n",
      "作者: qazwsx879345 (Rajon Rondo)\n",
      "[情報] SEASON Schedule 賽程 March 19–20\n",
      "作者: Acetoxy (阿斯)\n",
      "Fw: [公告] 即日起開放 NTU 信箱註冊帳號\n",
      "作者: Vedan (味丹)\n",
      "Fw: [公告] 台灣大學學生帳號註冊辦法\n",
      "作者: Vedan (味丹)\n"
     ]
    }
   ],
   "source": [
    "import requests\n",
    "from bs4 import BeautifulSoup\n",
    "\n",
    "url = 'https://www.ptt.cc/bbs/NBA/index.html'\n",
    "r = requests.get(url)\n",
    "\n",
    "soup = BeautifulSoup(r.text, \"html5lib\")\n",
    "\n",
    "for d in soup.find_all(class_=\"title\"):\n",
    "    #替換掉空行\n",
    "    print(d.text.replace('\\t', '').replace('\\n', ''))\n",
    "    try:\n",
    "        #進去文章裡面找\n",
    "        r = BeautifulSoup(requests.get('https://www.ptt.cc'+d.find('a')['href']).text, \"html5lib\")\n",
    "        print('作者: ' + r.find(class_='article-meta-value').text)\n",
    "    except:\n",
    "        continue\n",
    "        "
   ]
  },
  {
   "cell_type": "code",
   "execution_count": 26,
   "metadata": {},
   "outputs": [
    {
     "name": "stdout",
     "output_type": "stream",
     "text": [
      "[討論] NBA停賽的可能性?!\n",
      "作者: sthho (sthho)\n",
      "時間:  03/09 11:35\n",
      "\n",
      "[BOX ] Raptors 118:113 Kings 數據\n",
      "[公告] 第一次被退文，可在三天後刪除退文\n",
      "作者: Vedan (味丹)\n",
      "時間:  03/09 11:45\n",
      "\n",
      "[新聞]全陣快艇吞第一敗 湖人本季洛城內戰首開\n",
      "作者: sodistrues (true)\n",
      "時間:  03/09 11:46\n",
      "\n",
      "[情報] 雷霆本季16次前三節落後逆轉勝 聯盟最多\n",
      "作者: NSYSUheng (Pain)\n",
      "時間: 03/09 11:48\n",
      "\n",
      "[討論] 快艇是不是被騙了買到假貨啊\n",
      "作者: MayBeSoft (小小瑜兒)\n",
      "時間:  03/09 11:59\n",
      "\n",
      "[花邊] 球迷嗆Walton：你這白痴，你有三分冠軍\n",
      "作者: UCAthena (Let's go __)\n",
      "時間: 03/09 12:56\n",
      "\n",
      "Re: [花邊] 歐尼爾:誰能擊敗這五個人！\n",
      "作者: IAMGRICE (重雙我)\n",
      "時間:  03/09 14:06\n",
      "\n",
      "Re: [BOX ] Lakers 112:103 Clippers 數據\n",
      "作者: ericgary (艾瑞克蓋瑞)\n",
      "時間:  03/09 14:28\n",
      "\n",
      "[公告] 板規v6.8\n",
      "[公告] 版主上任相關事項 \n",
      "作者: qazwsx879345 (Rajon Rondo)\n",
      "時間:  10/25 10:45\n",
      "\n",
      "[情報] SEASON Schedule 賽程 March 19–20\n",
      "作者: Acetoxy (阿斯)\n",
      "時間:  03/02 01:21\n",
      "\n",
      "Fw: [公告] 即日起開放 NTU 信箱註冊帳號\n",
      "作者: Vedan (味丹)\n",
      "時間:  59.124.167.226 03/04 12:47\n",
      "\n",
      "Fw: [公告] 台灣大學學生帳號註冊辦法\n",
      "作者: Vedan (味丹)\n",
      "時間:   140.112.25.47 03/04 15:19\n",
      "\n"
     ]
    }
   ],
   "source": [
    "import requests\n",
    "from bs4 import BeautifulSoup\n",
    "\n",
    "url = 'https://www.ptt.cc/bbs/NBA/index.html'\n",
    "r = requests.get(url)\n",
    "\n",
    "soup = BeautifulSoup(r.text, 'html5lib')\n",
    "\n",
    "for d in soup.find_all(class_ = \"title\" ):\n",
    "    print(d.text.replace('\\t', '').replace('\\n', ''))\n",
    "    \n",
    "    try:\n",
    "        r = BeautifulSoup(requests.get('https://www.ptt.cc'+d.find('a')['href']).text, \"html5lib\")\n",
    "        print('作者: '+ r.find(class_ = \"article-meta-value\").text)\n",
    "        print('時間: '+ r.find(class_ = \"push-ipdatetime\").text)\n",
    "        \n",
    "    except:\n",
    "        continue\n",
    "    \n",
    "    \n",
    "    "
   ]
  },
  {
   "cell_type": "code",
   "execution_count": null,
   "metadata": {},
   "outputs": [],
   "source": []
  }
 ],
 "metadata": {
  "kernelspec": {
   "display_name": "Python 3",
   "language": "python",
   "name": "python3"
  },
  "language_info": {
   "codemirror_mode": {
    "name": "ipython",
    "version": 3
   },
   "file_extension": ".py",
   "mimetype": "text/x-python",
   "name": "python",
   "nbconvert_exporter": "python",
   "pygments_lexer": "ipython3",
   "version": "3.7.4"
  }
 },
 "nbformat": 4,
 "nbformat_minor": 2
}
