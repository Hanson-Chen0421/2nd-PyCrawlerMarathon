{
 "cells": [
  {
   "cell_type": "code",
   "execution_count": 19,
   "metadata": {},
   "outputs": [
    {
     "name": "stdout",
     "output_type": "stream",
     "text": [
      "[討論] NBA停賽的可能性?!\n",
      "作者: sthho (sthho)\n",
      "[BOX ] Raptors 118:113 Kings 數據\n",
      "[公告] 第一次被退文，可在三天後刪除退文\n",
      "作者: Vedan (味丹)\n",
      "[新聞]全陣快艇吞第一敗 湖人本季洛城內戰首開\n",
      "作者: sodistrues (true)\n",
      "[情報] 雷霆本季16次前三節落後逆轉勝 聯盟最多\n",
      "作者: NSYSUheng (Pain)\n",
      "[討論] 快艇是不是被騙了買到假貨啊\n",
      "作者: MayBeSoft (小小瑜兒)\n",
      "[花邊] 球迷嗆Walton：你這白痴，你有三分冠軍\n",
      "作者: UCAthena (Let's go __)\n",
      "Re: [花邊] 歐尼爾:誰能擊敗這五個人！\n",
      "作者: IAMGRICE (重雙我)\n",
      "[公告] 板規v6.8\n",
      "[公告] 版主上任相關事項 \n",
      "作者: qazwsx879345 (Rajon Rondo)\n",
      "[情報] SEASON Schedule 賽程 March 19–20\n",
      "作者: Acetoxy (阿斯)\n",
      "Fw: [公告] 即日起開放 NTU 信箱註冊帳號\n",
      "作者: Vedan (味丹)\n",
      "Fw: [公告] 台灣大學學生帳號註冊辦法\n",
      "作者: Vedan (味丹)\n"
     ]
    }
   ],
   "source": [
    "import requests\n",
    "from bs4 import BeautifulSoup\n",
    "\n",
    "url = 'https://www.ptt.cc/bbs/NBA/index.html'\n",
    "r = requests.get(url)\n",
    "\n",
    "soup = BeautifulSoup(r.text, \"html5lib\")\n",
    "\n",
    "for d in soup.find_all(class_=\"title\"):\n",
    "    #替換掉空行\n",
    "    print(d.text.replace('\\t', '').replace('\\n', ''))\n",
    "    try:\n",
    "        #進去文章裡面找\n",
    "        r = BeautifulSoup(requests.get('https://www.ptt.cc'+d.find('a')['href']).text, \"html5lib\")\n",
    "        print('作者: ' + r.find(class_='article-meta-value').text)\n",
    "    except:\n",
    "        continue\n",
    "        "
   ]
  },
  {
   "cell_type": "code",
   "execution_count": 42,
   "metadata": {},
   "outputs": [
    {
     "name": "stdout",
     "output_type": "stream",
     "text": [
      "[討論] NBA停賽的可能性?!\n",
      "作者: sthho (sthho)\n",
      "時間: Mon Mar  9 11:34:29 2020\n",
      "[BOX ] Raptors 118:113 Kings 數據\n",
      "[公告] 第一次被退文，可在三天後刪除退文\n",
      "作者: Vedan (味丹)\n",
      "時間: Mon Mar  9 11:44:26 2020\n",
      "[新聞]全陣快艇吞第一敗 湖人本季洛城內戰首開\n",
      "作者: sodistrues (true)\n",
      "時間: Mon Mar  9 11:44:29 2020\n",
      "[情報] 雷霆本季16次前三節落後逆轉勝 聯盟最多\n",
      "作者: NSYSUheng (Pain)\n",
      "時間: Mon Mar  9 11:46:59 2020\n",
      "[討論] 快艇是不是被騙了買到假貨啊\n",
      "作者: MayBeSoft (小小瑜兒)\n",
      "時間: Mon Mar  9 11:59:13 2020\n",
      "[花邊] 球迷嗆Walton：你這白痴，你有三分冠軍\n",
      "作者: UCAthena (Let's go __)\n",
      "時間: Mon Mar  9 12:55:19 2020\n",
      "Re: [花邊] 歐尼爾:誰能擊敗這五個人！\n",
      "作者: IAMGRICE (重雙我)\n",
      "時間: Mon Mar  9 14:05:10 2020\n",
      "Re: [BOX ] Lakers 112:103 Clippers 數據\n",
      "作者: ericgary (艾瑞克蓋瑞)\n",
      "時間: Mon Mar  9 14:26:53 2020\n",
      "[公告] 板規v6.8\n",
      "[公告] 版主上任相關事項 \n",
      "作者: qazwsx879345 (Rajon Rondo)\n",
      "時間: Fri Oct 25 10:44:03 2019\n",
      "[情報] SEASON Schedule 賽程 March 19–20\n",
      "作者: Acetoxy (阿斯)\n",
      "時間: Mon Mar  2 01:19:40 2020\n",
      "Fw: [公告] 即日起開放 NTU 信箱註冊帳號\n",
      "作者: Vedan (味丹)\n",
      "時間: Wed Mar  4 12:50:19 2020\n",
      "Fw: [公告] 台灣大學學生帳號註冊辦法\n",
      "作者: Vedan (味丹)\n",
      "時間: Wed Mar  4 16:58:46 2020\n"
     ]
    }
   ],
   "source": [
    "import requests\n",
    "from bs4 import BeautifulSoup\n",
    "\n",
    "url = 'https://www.ptt.cc/bbs/NBA/index.html'\n",
    "r = requests.get(url)\n",
    "\n",
    "soup = BeautifulSoup(r.text, 'html5lib')\n",
    "\n",
    "for d in soup.find_all(class_ = \"title\" ):\n",
    "    print(d.text.replace('\\t', '').replace('\\n', ''))\n",
    "    \n",
    "    try:\n",
    "        r = BeautifulSoup(requests.get('https://www.ptt.cc'+d.find('a')['href']).text, \"html5lib\")\n",
    "        print('作者: '+ r.find(class_ = \"article-meta-value\").text)\n",
    "        print('時間: '+ r.find_all(class_ = \"article-meta-value\")[-1].text)\n",
    "        \n",
    "    except:\n",
    "        continue\n",
    "    \n",
    "    \n",
    "    "
   ]
  },
  {
   "cell_type": "code",
   "execution_count": 57,
   "metadata": {},
   "outputs": [
    {
     "data": {
      "text/plain": [
       "[{'標題': '[公告] 版主上任相關事項 ',\n",
       "  '作者': 'qazwsx879345 (Rajon Rondo)',\n",
       "  '時間': 'Fri Oct 25 10:44:03 2019'},\n",
       " {'標題': '[情報] SEASON Schedule 賽程 March 19–20',\n",
       "  '作者': 'Acetoxy (阿斯)',\n",
       "  '時間': 'Mon Mar  2 01:19:40 2020'},\n",
       " {'標題': '[討論] NBA停賽的可能性?!',\n",
       "  '作者': 'sthho (sthho)',\n",
       "  '時間': 'Mon Mar  9 11:34:29 2020'},\n",
       " {'標題': '[公告] 第一次被退文，可在三天後刪除退文',\n",
       "  '作者': 'Vedan (味丹)',\n",
       "  '時間': 'Mon Mar  9 11:44:26 2020'},\n",
       " {'標題': '[新聞]全陣快艇吞第一敗 湖人本季洛城內戰首開',\n",
       "  '作者': 'sodistrues (true)',\n",
       "  '時間': 'Mon Mar  9 11:44:29 2020'},\n",
       " {'標題': '[情報] 雷霆本季16次前三節落後逆轉勝 聯盟最多',\n",
       "  '作者': 'NSYSUheng (Pain)',\n",
       "  '時間': 'Mon Mar  9 11:46:59 2020'},\n",
       " {'標題': '[討論] 快艇是不是被騙了買到假貨啊',\n",
       "  '作者': 'MayBeSoft (小小瑜兒)',\n",
       "  '時間': 'Mon Mar  9 11:59:13 2020'},\n",
       " {'標題': '[花邊] 球迷嗆Walton：你這白痴，你有三分冠軍',\n",
       "  '作者': \"UCAthena (Let's go __)\",\n",
       "  '時間': 'Mon Mar  9 12:55:19 2020'},\n",
       " {'標題': 'Re: [花邊] 歐尼爾:誰能擊敗這五個人！',\n",
       "  '作者': 'IAMGRICE (重雙我)',\n",
       "  '時間': 'Mon Mar  9 14:05:10 2020'},\n",
       " {'標題': 'Re: [BOX ] Lakers 112:103 Clippers 數據',\n",
       "  '作者': 'ericgary (艾瑞克蓋瑞)',\n",
       "  '時間': 'Mon Mar  9 14:26:53 2020'},\n",
       " {'標題': 'Fw: [公告] 即日起開放 NTU 信箱註冊帳號',\n",
       "  '作者': 'Vedan (味丹)',\n",
       "  '時間': 'Wed Mar  4 12:50:19 2020'},\n",
       " {'標題': 'Fw: [公告] 台灣大學學生帳號註冊辦法',\n",
       "  '作者': 'Vedan (味丹)',\n",
       "  '時間': 'Wed Mar  4 16:58:46 2020'}]"
      ]
     },
     "execution_count": 57,
     "metadata": {},
     "output_type": "execute_result"
    }
   ],
   "source": [
    "posts = []\n",
    "\n",
    "for d in soup.find_all(class_ = 'title'):\n",
    "    try: \n",
    "        post = {}\n",
    "        post['標題'] = d.text.replace('\\t', '').replace('\\n', '')\n",
    "            \n",
    "        r = BeautifulSoup(requests.get('https://www.ptt.cc'+ d.find('a')['href']).text, 'html5lib')\n",
    "        post['作者'] = r.find(class_ = \"article-meta-value\").text\n",
    "        post['時間'] = r.find_all(class_ = \"article-meta-value\")[-1].text\n",
    "        \n",
    "        posts.append(post)\n",
    "    except:\n",
    "        continue\n",
    "        \n",
    "posts = sorted(posts, key= lambda x: x['時間'])\n",
    "posts"
   ]
  },
  {
   "cell_type": "code",
   "execution_count": 86,
   "metadata": {},
   "outputs": [
    {
     "name": "stdout",
     "output_type": "stream",
     "text": [
      "{'標題': '[討論] NBA停賽的可能性?!', '作者': 'sthho (sthho)', '時間': 'Mon Mar  9 11:34:29 2020'}\n",
      "{'標題': '[公告] 第一次被退文，可在三天後刪除退文', '作者': 'Vedan (味丹)', '時間': 'Mon Mar  9 11:44:26 2020'}\n",
      "{'標題': '[新聞]全陣快艇吞第一敗 湖人本季洛城內戰首開', '作者': 'sodistrues (true)', '時間': 'Mon Mar  9 11:44:29 2020'}\n",
      "{'標題': '[情報] 雷霆本季16次前三節落後逆轉勝 聯盟最多', '作者': 'NSYSUheng (Pain)', '時間': 'Mon Mar  9 11:46:59 2020'}\n",
      "{'標題': '[討論] 快艇是不是被騙了買到假貨啊', '作者': 'MayBeSoft (小小瑜兒)', '時間': 'Mon Mar  9 11:59:13 2020'}\n",
      "{'標題': '[花邊] 球迷嗆Walton：你這白痴，你有三分冠軍', '作者': \"UCAthena (Let's go __)\", '時間': 'Mon Mar  9 12:55:19 2020'}\n",
      "{'標題': 'Re: [花邊] 歐尼爾:誰能擊敗這五個人！', '作者': 'IAMGRICE (重雙我)', '時間': 'Mon Mar  9 14:05:10 2020'}\n",
      "{'標題': 'Re: [BOX ] Lakers 112:103 Clippers 數據', '作者': 'ericgary (艾瑞克蓋瑞)', '時間': 'Mon Mar  9 14:26:53 2020'}\n",
      "{'標題': '[公告] 版主上任相關事項 ', '作者': 'qazwsx879345 (Rajon Rondo)', '時間': 'Fri Oct 25 10:44:03 2019'}\n",
      "{'標題': '[情報] SEASON Schedule 賽程 March 19–20', '作者': 'Acetoxy (阿斯)', '時間': 'Mon Mar  2 01:19:40 2020'}\n",
      "{'標題': 'Fw: [公告] 即日起開放 NTU 信箱註冊帳號', '作者': 'Vedan (味丹)', '時間': 'Wed Mar  4 12:50:19 2020'}\n",
      "{'標題': 'Fw: [公告] 台灣大學學生帳號註冊辦法', '作者': 'Vedan (味丹)', '時間': 'Wed Mar  4 16:58:46 2020'}\n"
     ]
    }
   ],
   "source": [
    "posts = []\n",
    "\n",
    "for d in soup.find_all(class_=\"title\"):\n",
    "    try:\n",
    "        post = {}\n",
    "        post['標題'] = d.text.replace('\\t', '').replace('\\n', '')\n",
    "        \n",
    "        r = BeautifulSoup(requests.get('https://www.ptt.cc'+d.find('a')['href']).text, \"html5lib\")\n",
    "        post['作者'] = r.find(class_='article-meta-value').text\n",
    "        post['時間'] = r.find_all(class_='article-meta-value')[-1].text\n",
    "        \n",
    "        posts.append(post)\n",
    "        print(post)\n",
    "    except:\n",
    "        continue\n",
    "        \n",
    "posts = sorted(posts, key= lambda x: x['時間'])\n",
    "# 補充：List of Dict 的排序方法\n",
    "# https://stackoverflow.com"
   ]
  },
  {
   "cell_type": "code",
   "execution_count": 91,
   "metadata": {},
   "outputs": [],
   "source": [
    "posts = []\n",
    "\n",
    "for d in soup.find_all(class_ = 'title'):\n",
    "    try:\n",
    "        post = {}\n",
    "        post['標題'] = d.text.replace('\\t', '').replace('\\n', '')\n",
    "        \n",
    "        r = BeautifulSoup(requests.get('https://www.ptt.cc'+d.find('a')['href']).text, \"html5lib\")\n",
    "        post['作者'] = r.find(class_='article-meta-value').text\n",
    "        post['時間'] = r.find_all(class_='article-meta-value')[-1].text\n",
    "                          \n",
    "    except:\n",
    "        continue\n",
    "                          \n",
    "posts = sorted(posts, key= lambda x: x['時間'])\n",
    "posts[-1]"
   ]
  },
  {
   "cell_type": "code",
   "execution_count": 92,
   "metadata": {},
   "outputs": [
    {
     "data": {
      "text/plain": [
       "{'標題': '[公告] 八卦板板規(2019.08.21)',\n",
       " '作者': 'arsonlolita (蘿莉塔)',\n",
       " '時間': 'Wed Aug 21 08:33:39 2019'}"
      ]
     },
     "execution_count": 92,
     "metadata": {},
     "output_type": "execute_result"
    }
   ],
   "source": [
    "# 改成 Gossiping 版，發生錯誤，因為八卦版會跳轉到一個「十八歲的同意驗證頁面」導致錯誤。\n",
    "# 參考圖片下載時的解法，加上 cookies 繞過驗證（後面課程會再進行補充）\n",
    "\n",
    "\n",
    "import requests\n",
    "from bs4 import BeautifulSoup\n",
    "\n",
    "url = 'https://www.ptt.cc/bbs/Gossiping/index.html'\n",
    "r = requests.get(url, cookies={'over18': '1'})\n",
    "\n",
    "soup = BeautifulSoup(r.text, \"html5lib\")\n",
    "\n",
    "posts = []\n",
    "\n",
    "for d in soup.find_all(class_=\"title\"):\n",
    "    try:\n",
    "        post = {}\n",
    "        post['標題'] = d.text.replace('\\t', '').replace('\\n', '')\n",
    "        \n",
    "        r = BeautifulSoup(requests.get('https://www.ptt.cc'+d.find('a')['href'], cookies={'over18': '1'}).text, \"html5lib\")\n",
    "        post['作者'] = r.find(class_='article-meta-value').text\n",
    "        post['時間'] = r.find_all(class_='article-meta-value')[-1].text\n",
    "        \n",
    "        posts.append(post)\n",
    "    except:\n",
    "        continue\n",
    "        \n",
    "posts = sorted(posts, key= lambda x: x['時間'])\n",
    "posts[-1]"
   ]
  },
  {
   "cell_type": "code",
   "execution_count": null,
   "metadata": {},
   "outputs": [],
   "source": []
  }
 ],
 "metadata": {
  "kernelspec": {
   "display_name": "Python 3",
   "language": "python",
   "name": "python3"
  },
  "language_info": {
   "codemirror_mode": {
    "name": "ipython",
    "version": 3
   },
   "file_extension": ".py",
   "mimetype": "text/x-python",
   "name": "python",
   "nbconvert_exporter": "python",
   "pygments_lexer": "ipython3",
   "version": "3.7.4"
  }
 },
 "nbformat": 4,
 "nbformat_minor": 2
}
