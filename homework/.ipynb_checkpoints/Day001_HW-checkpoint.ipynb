{
 "cells": [
  {
   "cell_type": "code",
   "execution_count": 30,
   "metadata": {},
   "outputs": [
    {
     "data": {
      "text/plain": [
       "'\\n\\n1. 檔案：資料會包成檔案提供下載，格式可能包含常⽤用的標準格式，例如「CSV」、「JSON」等等通⽤用的格式。\\n2. 開放接⼝（API）：提供程式化的連接的接⼝口，讓⼯工程師/分析師可以選擇資料中要讀取的特定部分，⽽而不需要把整批資料事先完整下載回來來\\n3. 網⾴爬蟲：資料沒有以檔案或 API 提供，但出現在網⾴頁上。可以利利⽤用爬蟲爬蟲程式，將網⾴頁的資料解析所需的部分。\\n\\n檔案 & API 是由資料擁有者主動釋出，爬蟲則是資料擁有者被動公開的。\\n\\n'"
      ]
     },
     "execution_count": 30,
     "metadata": {},
     "output_type": "execute_result"
    }
   ],
   "source": [
    "#1.（簡答題）檔案、API、爬蟲三種取得資料方式有什麼不同？\n",
    "'''\n",
    "\n",
    "1. 檔案：資料會包成檔案提供下載，格式可能包含常⽤用的標準格式，例如「CSV」、「JSON」等等通⽤用的格式。\n",
    "2. 開放接⼝（API）：提供程式化的連接的接⼝口，讓⼯工程師/分析師可以選擇資料中要讀取的特定部分，⽽而不需要把整批資料事先完整下載回來來\n",
    "3. 網⾴爬蟲：資料沒有以檔案或 API 提供，但出現在網⾴頁上。可以利利⽤用爬蟲爬蟲程式，將網⾴頁的資料解析所需的部分。\n",
    "\n",
    "檔案 & API 是由資料擁有者主動釋出，爬蟲則是資料擁有者被動公開的。\n",
    "\n",
    "'''\n"
   ]
  },
  {
   "cell_type": "code",
   "execution_count": 31,
   "metadata": {},
   "outputs": [
    {
     "data": {
      "text/plain": [
       "'\\n「下載指定檔案到 Data 資料夾，存成檔名 Homework.txt」的檔案網址：https://www.w3.org/TR/PNG/iso_8859-1.txt 或任一個 .txt 的檔案網址\\n檢查 Data 資料夾是否有 Homework.txt 檔名之檔案\\n將「Hello World」字串覆寫到 Homework.txt 檔案\\n檢查 Homework.txt 檔案字數是否符合 Hello World 字數\\n'"
      ]
     },
     "execution_count": 31,
     "metadata": {},
     "output_type": "execute_result"
    }
   ],
   "source": [
    "#2.（實作）完成一個程式，需滿足下列需求：\n",
    "'''\n",
    "「下載指定檔案到 Data 資料夾，存成檔名 Homework.txt」的檔案網址：https://www.w3.org/TR/PNG/iso_8859-1.txt 或任一個 .txt 的檔案網址\n",
    "檢查 Data 資料夾是否有 Homework.txt 檔名之檔案\n",
    "將「Hello World」字串覆寫到 Homework.txt 檔案\n",
    "檢查 Homework.txt 檔案字數是否符合 Hello World 字數\n",
    "'''\n",
    "\n"
   ]
  },
  {
   "cell_type": "code",
   "execution_count": 32,
   "metadata": {},
   "outputs": [],
   "source": [
    "# 下載檔案到 Data 資料夾，存成檔名 Homework.txt\n",
    "from urllib.request import urlretrieve\n",
    "import os"
   ]
  },
  {
   "cell_type": "code",
   "execution_count": 33,
   "metadata": {},
   "outputs": [],
   "source": [
    "# 下載檔案到 Data 資料夾，存成檔名 Homework.txt\n",
    "# 語法：os.makedirs(path, mode=0o777)\n",
    "\n",
    "try:\n",
    "    os.makedirs( './Data', exist_ok=True)\n",
    "    urlretrieve (\"https://www.w3.org/TR/PNG/iso_8859-1.txt\", \"./Data/Homework.txt\")\n",
    " \n",
    "    \n",
    "except:\n",
    "    print('發生錯誤！')\n"
   ]
  },
  {
   "cell_type": "code",
   "execution_count": 34,
   "metadata": {},
   "outputs": [
    {
     "name": "stdout",
     "output_type": "stream",
     "text": [
      "[O] 檢查 Data 資料夾是否有 Homework.txt 檔名之檔案\n"
     ]
    }
   ],
   "source": [
    "# 檢查 Data 資料夾是否有 Homework.txt 檔名之檔案\n",
    "\n",
    "files = os.listdir('./Data')\n",
    "\n",
    "\n",
    "if 'Homework.txt' in files:\n",
    "    print('[O] 檢查 Data 資料夾是否有 Homework.txt 檔名之檔案')\n",
    "else:\n",
    "    print('[X] 檢查 Data 資料夾是否有 Homework.txt 檔名之檔案')"
   ]
  },
  {
   "cell_type": "code",
   "execution_count": 35,
   "metadata": {},
   "outputs": [],
   "source": [
    "# 將「Hello World」字串覆寫到 Homework.txt 檔案\n",
    "\n",
    "\n",
    "\n",
    "with open(\"./Data/Homework.txt\", \"w\") as fh:\n",
    "    f = fh.write(\"Hello World\")\n",
    "    \n",
    "try:\n",
    "    with open(\"./Data/Homework.txt\", \"r\") as fh:     \n",
    "        f = fh.read()\n",
    "    \n",
    "except EnvironmentError: # parent of IOError, OSError *and* WindowsError where available\n",
    "    pass    "
   ]
  },
  {
   "cell_type": "code",
   "execution_count": 36,
   "metadata": {},
   "outputs": [
    {
     "name": "stdout",
     "output_type": "stream",
     "text": [
      "[O] 檢查 Homework.txt 檔案字數是否符合 Hello World 字數\n"
     ]
    }
   ],
   "source": [
    "# 檢查 Homework.txt 檔案字數是否符合 Hello World 字數\n",
    "\n",
    "if len('Hello World') == len(f):\n",
    "    print('[O] 檢查 Homework.txt 檔案字數是否符合 Hello World 字數')\n",
    "else:\n",
    "    print('[X] 檢查 Homework.txt 檔案字數是否符合 Hello World 字數')"
   ]
  },
  {
   "cell_type": "code",
   "execution_count": null,
   "metadata": {},
   "outputs": [],
   "source": []
  },
  {
   "cell_type": "code",
   "execution_count": null,
   "metadata": {},
   "outputs": [],
   "source": []
  }
 ],
 "metadata": {
  "kernelspec": {
   "display_name": "Python 3",
   "language": "python",
   "name": "python3"
  },
  "language_info": {
   "codemirror_mode": {
    "name": "ipython",
    "version": 3
   },
   "file_extension": ".py",
   "mimetype": "text/x-python",
   "name": "python",
   "nbconvert_exporter": "python",
   "pygments_lexer": "ipython3",
   "version": "3.7.4"
  }
 },
 "nbformat": 4,
 "nbformat_minor": 2
}
